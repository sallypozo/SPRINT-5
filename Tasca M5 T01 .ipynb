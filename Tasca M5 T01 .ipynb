{
 "cells": [
  {
   "cell_type": "code",
   "execution_count": 20,
   "id": "2e649ba0",
   "metadata": {},
   "outputs": [],
   "source": [
    "#M5 T01\n",
    "#Ejercicio1\n",
    "#Descarga el dataset adjunto de datos oficiales de la UEFA y selecciona un atributo del conjunto de datos. \n",
    "#Calcula el p-valor y di si rechaza la hipótesis nula cogiendo un alfa de 5%.\n",
    "\n",
    "\n",
    "# Example of the Shapiro-Wilk Normality Test\n",
    "\n",
    "\n",
    "\n",
    "\n"
   ]
  },
  {
   "cell_type": "code",
   "execution_count": 25,
   "id": "8b597a09",
   "metadata": {},
   "outputs": [
    {
     "name": "stdout",
     "output_type": "stream",
     "text": [
      "   Rk            Squad Country  LgRk  MP   W  D  L  GF  GA  ...  Pts  Pts/G  \\\n",
      "0   1  Manchester City     ENG     1  37  28  6  3  96  24  ...   90   2.43   \n",
      "1   2        Liverpool     ENG     2  36  26  8  2  89  24  ...   86   2.39   \n",
      "2   3      Real Madrid     ESP     1  37  26  7  4  80  31  ...   85   2.30   \n",
      "3   4    Bayern Munich     GER     1  34  24  5  5  97  37  ...   77   2.26   \n",
      "4   5        Paris S-G     FRA     1  37  25  8  4  85  36  ...   83   2.24   \n",
      "\n",
      "     xG   xGA   xGD  xGD/90     Last 5 Attendance          Top Team Scorer  \\\n",
      "0  86.1  26.8  59.3    1.60  W W W W D      52739     Kevin De Bruyne - 15   \n",
      "1  84.6  33.1  51.4    1.43  W W W D W      53367       Mohamed Salah - 22   \n",
      "2  73.0  45.8  27.2    0.73  W W L W D      40624       Karim Benzema - 27   \n",
      "3  88.1  37.1  51.0    1.50  W W L D D      33176  Robert Lewandowski - 35   \n",
      "4  71.6  38.1  33.4    0.90  W D D D W      41188       Kylian Mbappé - 25   \n",
      "\n",
      "         Goalkeeper  \n",
      "0           Ederson  \n",
      "1           Alisson  \n",
      "2  Thibaut Courtois  \n",
      "3      Manuel Neuer  \n",
      "4      Keylor Navas  \n",
      "\n",
      "[5 rows x 21 columns]\n"
     ]
    }
   ],
   "source": [
    "dato = pd.read_csv('liga.csv',sep=';', encoding=\"ISO-8859-1\")\n",
    "print(dato.head())\n"
   ]
  },
  {
   "cell_type": "code",
   "execution_count": 43,
   "id": "491f3de7",
   "metadata": {},
   "outputs": [
    {
     "name": "stdout",
     "output_type": "stream",
     "text": [
      "stat=4.022, p=0.134\n",
      "Probably Gaussian\n"
     ]
    }
   ],
   "source": [
    "# Example of the D'Agostino's K^2 Normality Test\n",
    "from scipy.stats import normaltest\n",
    "datos= dato[['xGD']]\n",
    "stat, p = normaltest(datos)\n",
    "print('stat=%.3f, p=%.3f' % (stat, p))\n",
    "if p > 0.05:\n",
    " print('Probably Gaussian')\n",
    "else:\n",
    " print('Probably not Gaussian')\n",
    "\n",
    "\n",
    "\n"
   ]
  },
  {
   "cell_type": "code",
   "execution_count": 45,
   "id": "9275a593",
   "metadata": {},
   "outputs": [
    {
     "name": "stdout",
     "output_type": "stream",
     "text": [
      "stat=1.721, p=0.423\n",
      "Probably Gaussian\n",
      "stat=4.022, p=0.134\n",
      "Probably Gaussian\n"
     ]
    }
   ],
   "source": [
    "#Ejercicio 2\n",
    "#Con el mismo dataset selecciona otros dos atributos del conjunto de datos. \n",
    "#Calcula los p-valores y di si rechazan la hipótesis nula cogiendo un alfa de 5%.\n",
    "#PRIMER ATRIBUTO\n",
    "#----------------------\n",
    "from scipy.stats import normaltest\n",
    "dato1= dato[['xGA']]\n",
    "stat, p = normaltest(dato1)\n",
    "print('stat=%.3f, p=%.3f' % (stat, p))\n",
    "if p > 0.05:\n",
    " print('Probably Gaussian')\n",
    "else:\n",
    " print('Probably not Gaussian')\n",
    "#SEGUNDO ATRIBUTO\n",
    "#----------------------\n",
    "from scipy.stats import normaltest\n",
    "dato2= dato[['xGD']]\n",
    "stat, p = normaltest(dato2)\n",
    "print('stat=%.3f, p=%.3f' % (stat, p))\n",
    "if p > 0.05:\n",
    " print('Probably Gaussian')\n",
    "else:\n",
    " print('Probably not Gaussian')"
   ]
  },
  {
   "cell_type": "code",
   "execution_count": 49,
   "id": "d15607b4",
   "metadata": {},
   "outputs": [
    {
     "name": "stdout",
     "output_type": "stream",
     "text": [
      "stat=0.97204, p=0.03466\n",
      "Probably not Gaussian\n",
      "stat=0.97206, p=0.03474\n",
      "Probably not Gaussian\n",
      "stat=0.94326, p=0.00036\n",
      "Probably not Gaussian\n"
     ]
    }
   ],
   "source": [
    "#Ejercicio 3\n",
    "#Continúa con el conjunto de datos adjunto y selecciona tres atributos del conjunto de datos.\n",
    "#Calcula el p-valor y di si rechaza la hipótesis nula cogiendo un alfa de 5%. \n",
    "#PRIMER ATRIBUTO\n",
    "#----------------------\n",
    "\n",
    "\n",
    "# Example of the Shapiro-Wilk Normality Test\n",
    "from scipy.stats import shapiro\n",
    "dato3= dato[['Pts']]\n",
    "stat, p = shapiro(dato3)\n",
    "print('stat=%.5f, p=%.5f' % (stat, p))\n",
    "if p > 0.05:\n",
    " print('Probably Gaussian')\n",
    "else:\n",
    " print('Probably not Gaussian')\n",
    "\n",
    "#SEGUNDO ATRIBUTO\n",
    "#----------------------\n",
    "from scipy.stats import shapiro\n",
    "dato4= dato[['Pts/G']]\n",
    "stat, p = shapiro(dato4)\n",
    "print('stat=%.5f, p=%.5f' % (stat, p))\n",
    "if p > 0.05:\n",
    " print('Probably Gaussian')\n",
    "else:\n",
    " print('Probably not Gaussian')\n",
    "\n",
    "#TERCER ATRIBUTO\n",
    "#----------------------\n",
    "from scipy.stats import shapiro\n",
    "dato5= dato[['GF']]\n",
    "stat, p = shapiro(dato5)\n",
    "print('stat=%.5f, p=%.5f' % (stat, p))\n",
    "if p > 0.05:\n",
    " print('Probably Gaussian')\n",
    "else:\n",
    " print('Probably not Gaussian')"
   ]
  },
  {
   "cell_type": "code",
   "execution_count": null,
   "id": "5f635013",
   "metadata": {},
   "outputs": [],
   "source": [
    "\n"
   ]
  },
  {
   "cell_type": "code",
   "execution_count": null,
   "id": "4d8756f4",
   "metadata": {},
   "outputs": [],
   "source": []
  },
  {
   "cell_type": "code",
   "execution_count": null,
   "id": "f9a85892",
   "metadata": {},
   "outputs": [],
   "source": []
  },
  {
   "cell_type": "code",
   "execution_count": null,
   "id": "f7a28ef5",
   "metadata": {},
   "outputs": [],
   "source": []
  },
  {
   "cell_type": "code",
   "execution_count": null,
   "id": "ee582389",
   "metadata": {},
   "outputs": [],
   "source": []
  }
 ],
 "metadata": {
  "kernelspec": {
   "display_name": "Python 3 (ipykernel)",
   "language": "python",
   "name": "python3"
  },
  "language_info": {
   "codemirror_mode": {
    "name": "ipython",
    "version": 3
   },
   "file_extension": ".py",
   "mimetype": "text/x-python",
   "name": "python",
   "nbconvert_exporter": "python",
   "pygments_lexer": "ipython3",
   "version": "3.9.12"
  }
 },
 "nbformat": 4,
 "nbformat_minor": 5
}
